{
  "cells": [
    {
      "cell_type": "markdown",
      "metadata": {
        "id": "Oe9SQUuVgkEy",
        "tags": []
      },
      "source": [
        "### GW tutorial 3: Generation of data and matched filtering"
      ]
    },
    {
      "cell_type": "markdown",
      "metadata": {
        "id": "XtYJtHyShpHZ"
      },
      "source": [
        "Author: Melissa Lopez\n",
        "\n",
        "Email: m.lopez@uu.nl"
      ]
    },
    {
      "cell_type": "code",
      "execution_count": null,
      "metadata": {
        "id": "0NeSv96NLLDw"
      },
      "outputs": [],
      "source": [
        "%matplotlib inline\n",
        "from pycbc.catalog import Merger\n",
        "import pycbc.psd, pycbc.noise\n",
        "import pylab\n",
        "import matplotlib.pyplot as plt\n",
        "import numpy as np\n",
        "from pycbc.waveform import get_td_waveform\n",
        "from pycbc.detector import Detector\n",
        "import random"
      ]
    },
    {
      "cell_type": "markdown",
      "metadata": {
        "id": "WB_YJX02hpHb"
      },
      "source": [
        "Previously, we have plotted the PSD of different detectors. Some PSDs are from previous runs (O3), while some others are the design sensitivity of future detectors.\n",
        "\n",
        "The PSD characterizes the noise of the detector, so we can generate detector noise accordingly."
      ]
    },
    {
      "cell_type": "markdown",
      "metadata": {
        "id": "HD68VHWuhpHc"
      },
      "source": [
        "**Exercise 1:** Load the `aligo_O4high.txt` PSD to [generate](https://pycbc.org/pycbc/latest/html/pycbc.noise.html#pycbc.noise.gaussian.noise_from_psd) some Gaussian data.\n",
        "\n",
        "_Hint:_ Minimum frequency is 10 Hz, sampling rate 4096 Hz and we want 20s of duration"
      ]
    },
    {
      "cell_type": "code",
      "execution_count": null,
      "metadata": {
        "id": "HOwnVE2bhpHc"
      },
      "outputs": [],
      "source": [
        "\n",
        "\n",
        "# Load the PSD\n",
        "psd = pycbc.psd.read.from_txt(\"aligo_O4high.txt\")\n",
        "\n",
        "# Generate the Gaussian noise\n",
        "delta_f = 1.0 / 20\n",
        "flen = int(2048 / delta_f) + 1\n",
        "flow = 10\n",
        "delta_t = 1.0/4096\n",
        "tsamples = int(20/delta_t)\n",
        "noise = pycbc.noise.gaussian.noise_from_psd(tsamples, delta_t, psd, seed=128)\n",
        "\n",
        "# Plot the noise\n",
        "pylab.plot(noise.sample_times, noise)\n",
        "pylab.xlabel('Time (s)')\n",
        "pylab.ylabel('Strain')\n",
        "pylab.title('Gaussian Noise')\n",
        "pylab.show()\n"
      ]
    },
    {
      "cell_type": "markdown",
      "metadata": {
        "id": "rSekWWWLhpHc"
      },
      "source": [
        "As you can see. the generated noise is \"coloured\" according to the detector noise. Now, we would like to add a simulated gravitational wave signal in our detector noise.\n",
        "\n",
        "**Exercise 2:** Using [this function](https://pycbc.org/pycbc/latest/html/pycbc.waveform.html#pycbc.waveform.waveform.get_td_waveform) to generate waveforms in time domain, provide the plus and cross polarization of a binary black hole merger of $m_{1} = m_{2} = 50$ at 2000 Mpc. Use the waveform approximant \"IMRPhenomD\". How does the waveform amplitude compare to the detector noise?\n",
        "\n",
        "The waveform comes from the source, but it needs to be projected in the detector. [Project](https://pycbc.org/pycbc/latest/html/pycbc.detector.html#pycbc.detector.ground.Detector.project_wave) the waveform on LIGO Livingston (L1) at random sky-location and polarization. You can specify your detector with [this](https://pycbc.org/pycbc/latest/html/pycbc.detector.html#pycbc.detector.ground.Detector) function. How does the waveform change because of this projection?\n",
        "\n",
        "_Hint:_ Right ascension range is $[0, 2\\pi]$, declination is $[-2\\pi, 2\\pi]$ and polarization is $[0, 2\\pi]$."
      ]
    },
    {
      "cell_type": "code",
      "execution_count": 1,
      "metadata": {
        "colab": {
          "base_uri": "https://localhost:8080/",
          "height": 231
        },
        "id": "qwzOuZ3NhpHc",
        "outputId": "1f889d63-dcc1-4a34-abe2-617e139b05e1"
      },
      "outputs": [
        {
          "output_type": "error",
          "ename": "NameError",
          "evalue": "name 'get_td_waveform' is not defined",
          "traceback": [
            "\u001b[0;31m---------------------------------------------------------------------------\u001b[0m",
            "\u001b[0;31mNameError\u001b[0m                                 Traceback (most recent call last)",
            "\u001b[0;32m<ipython-input-1-5288024214df>\u001b[0m in \u001b[0;36m<cell line: 0>\u001b[0;34m()\u001b[0m\n\u001b[1;32m      5\u001b[0m \u001b[0;32mimport\u001b[0m \u001b[0mnumpy\u001b[0m \u001b[0;32mas\u001b[0m \u001b[0mnp\u001b[0m\u001b[0;34m\u001b[0m\u001b[0;34m\u001b[0m\u001b[0m\n\u001b[1;32m      6\u001b[0m \u001b[0;31m# Generate the waveform\u001b[0m\u001b[0;34m\u001b[0m\u001b[0;34m\u001b[0m\u001b[0m\n\u001b[0;32m----> 7\u001b[0;31m hp, hc = get_td_waveform(approximant=\"IMRPhenomD\",\n\u001b[0m\u001b[1;32m      8\u001b[0m                          \u001b[0mmass1\u001b[0m\u001b[0;34m=\u001b[0m\u001b[0;36m50\u001b[0m\u001b[0;34m,\u001b[0m\u001b[0;34m\u001b[0m\u001b[0;34m\u001b[0m\u001b[0m\n\u001b[1;32m      9\u001b[0m                          \u001b[0mmass2\u001b[0m\u001b[0;34m=\u001b[0m\u001b[0;36m50\u001b[0m\u001b[0;34m,\u001b[0m\u001b[0;34m\u001b[0m\u001b[0;34m\u001b[0m\u001b[0m\n",
            "\u001b[0;31mNameError\u001b[0m: name 'get_td_waveform' is not defined"
          ]
        }
      ],
      "source": [
        "\n",
        "import numpy as np\n",
        "# Generate the waveform\n",
        "hp, hc = get_td_waveform(approximant=\"IMRPhenomD\",\n",
        "                         mass1=50,\n",
        "                         mass2=50,\n",
        "                         delta_t=delta_t,\n",
        "                         f_lower=flow,\n",
        "                         distance=2000)\n",
        "\n",
        "# Plot the waveform\n",
        "pylab.plot(hp.sample_times, hp, label='Plus Polarization')\n",
        "pylab.plot(hp.sample_times, hc, label='Cross Polarization')\n",
        "pylab.xlabel('Time (s)')\n",
        "pylab.ylabel('Strain')\n",
        "pylab.title('Binary Black Hole Merger Waveform')\n",
        "pylab.legend()\n",
        "pylab.show()\n",
        "\n",
        "# Compare waveform amplitude to detector noise\n",
        "print(\"Waveform amplitude:\", max(abs(hp)))\n",
        "print(\"Noise amplitude:\", max(abs(noise)))\n",
        "\n",
        "\n",
        "# Project the waveform onto the LIGO Livingston detector\n",
        "# Generate random sky location and polarization\n",
        "right_ascension = random.uniform(0, 2 * np.pi)\n",
        "declination = random.uniform(-np.pi/2, np.pi/2)\n",
        "polarization = random.uniform(0, 2 * np.pi)\n",
        "\n",
        "\n",
        "# Specify the LIGO Livingston detector\n",
        "det = Detector(\"L1\")\n",
        "\n",
        "# Project waveform\n",
        "hp_projected = det.project_wave(hp, hc, right_ascension, declination, polarization)\n",
        "\n",
        "# Plot the projected waveform\n",
        "pylab.plot(hp_projected.sample_times, hp_projected)\n",
        "pylab.xlabel('Time (s)')\n",
        "pylab.ylabel('Strain')\n",
        "pylab.title('Projected Waveform on LIGO Livingston')\n",
        "pylab.show()\n"
      ]
    },
    {
      "cell_type": "markdown",
      "metadata": {
        "id": "M2KNZ4n_hpHc"
      },
      "source": [
        "**Exercise 2:** From before our detector noise is 20s long. Add the GW into noise after 5s. We also need to get the first 4s to estimate the PSD in the next excercise. Make an overlaid plot with the total data, the portion of data where the GW is added and the data needed to estimate the PSD.\n",
        "\n",
        "_Bonus:_ Can you also plot the GW signal?\n"
      ]
    },
    {
      "cell_type": "code",
      "execution_count": null,
      "metadata": {
        "id": "RqbGnaxohpHd"
      },
      "outputs": [],
      "source": [
        "# prompt: From before our detector noise is 20s long. Add the GW into noise after 5s. We also need to get the first 4s to estimate the PSD in the next excercise. Make an overlaid plot with the total data, the portion of data where the GW is added and the data needed to estimate the PSD.\n",
        "# Bonus: Can you also plot the GW signal?\n",
        "\n",
        "import numpy as np\n",
        "# Add the GW into noise after 5s\n",
        "# get the first 4s to estimate the PSD\n",
        "# Make an overlaid plot with the total data, the portion of data where the GW is added and the data needed to estimate the PSD\n",
        "# Bonus: Plot the GW signal\n",
        "\n",
        "# Time vector\n",
        "time = np.arange(0, 20, delta_t)\n",
        "\n",
        "# Find the index corresponding to 5 seconds\n",
        "index_5s = np.argmin(np.abs(time - 5))\n",
        "\n",
        "# Find the index corresponding to 4 seconds\n",
        "index_4s = np.argmin(np.abs(time - 4))\n",
        "\n",
        "# Add the projected waveform to the noise\n",
        "signal = noise.copy()\n",
        "signal[index_5s:index_5s + len(hp_projected)] += hp_projected\n",
        "\n",
        "# Plot the results\n",
        "pylab.figure(figsize=(10, 6))\n",
        "pylab.plot(time, signal, label='Total Data (Noise + GW)')\n",
        "pylab.plot(time[index_5s:index_5s + len(hp_projected)], signal[index_5s:index_5s + len(hp_projected)], label='GW Signal Added')\n",
        "pylab.plot(time[:index_4s], signal[:index_4s], label='Data for PSD Estimation')\n",
        "pylab.plot(hp_projected.sample_times, hp_projected, label='GW Signal', linestyle='--')\n",
        "pylab.xlabel('Time (s)')\n",
        "pylab.ylabel('Strain')\n",
        "pylab.title('Simulated Detector Data with GW Signal')\n",
        "pylab.legend()\n",
        "pylab.grid(True)\n",
        "pylab.show()\n"
      ]
    },
    {
      "cell_type": "markdown",
      "metadata": {
        "id": "D3carl20hpHd"
      },
      "source": [
        "**Exercise 3:** In a proper search we do not really have the PSD handy. We want to estimate the PSD with Welch's method (see [here](https://ccrma.stanford.edu/~jos/sasp/Welch_s_Method.html) for details), but we want to use the 4s of the beginning where the GW is not present using [this function](https://pycbc.org/pycbc/latest/html/pycbc.psd.html#pycbc.psd.estimate.welch). Plot the estimated PSD. Note that before we used a dummy whitening, and this one is a bit better.\n",
        "\n",
        "What is the $\\Delta_f$ of the estimated PSD? What is $\\Delta_f$ of the data we want to whiten to see the GW signal?\n",
        "\n",
        "_Hint:_ `seg_stride (int)` is usually half of `seg_len`.\n"
      ]
    },
    {
      "cell_type": "code",
      "execution_count": null,
      "metadata": {
        "id": "AvvRnDahhpHd"
      },
      "outputs": [],
      "source": [
        "\n",
        "\n",
        "# Estimate the PSD using Welch's method\n",
        "seg_len = int(1 / delta_t)  # 1 second segment length\n",
        "seg_stride = int(seg_len / 2)  # 50% overlap\n",
        "estimated_psd = pycbc.psd.welch(noise_4s, seg_len=seg_len, seg_stride=seg_stride)\n",
        "\n",
        "# Plot the estimated PSD\n",
        "pylab.loglog(estimated_psd.sample_frequencies, estimated_psd)\n",
        "pylab.xlabel('Frequency (Hz)')\n",
        "pylab.ylabel('Strain^2/Hz')\n",
        "pylab.title('Estimated PSD using Welch\\'s method')\n",
        "pylab.show()\n",
        "\n",
        "# Calculate delta_f for the estimated PSD\n",
        "delta_f_estimated_psd = estimated_psd.delta_f\n",
        "print(f\"Delta f of the estimated PSD: {delta_f_estimated_psd}\")\n",
        "\n",
        "# Delta f of the data we want to whiten\n",
        "print(f\"Delta f of the data to whiten: {delta_f}\")\n"
      ]
    },
    {
      "cell_type": "markdown",
      "metadata": {
        "id": "DTp9WKnIhpHd"
      },
      "source": [
        "Now that we have the PSD we need to interpolate it to match our data and then limit the filter length of 1 / PSD. After this, we can directly use this PSD to filter the data. Since the data has been highpassed above 12 Hz, and will have low values below this we need to informat the function to not include frequencies below this frequency.\n",
        "\n",
        "**Exercise 4:** Use the functions [interpolate](https://pycbc.org/pycbc/latest/html/pycbc.psd.html#pycbc.psd.estimate.interpolate) and [inverse_spectrum_truncation](https://pycbc.org/pycbc/latest/html/pycbc.psd.html#pycbc.psd.estimate.inverse_spectrum_truncation) to achieve a proper formatting of the PSD.\n",
        "\n",
        "_Hint:_ `max_filter_len (int)` is $4 \\times$ sampling_rate. Note that the original PSD has a minimum frequency of 12Hz."
      ]
    },
    {
      "cell_type": "code",
      "execution_count": null,
      "metadata": {
        "id": "MUoC_1zkhpHd"
      },
      "outputs": [],
      "source": [
        "# prompt: Use the functions interpolate and inverse_spectrum_truncation to achieve a proper formatting of the PSD.\n",
        "# Hint: max_filter_len (int) is 4× sampling_rate. Note that the original PSD has a minimum frequency of 12Hz.\n",
        "\n",
        "# Interpolate the PSD to match the data\n",
        "interpolated_psd = pycbc.psd.interpolate(estimated_psd, signal.delta_f)\n",
        "\n",
        "# Apply inverse_spectrum_truncation\n",
        "max_filter_len = int(4 * signal.sample_rate)\n",
        "psd_for_filtering = pycbc.psd.inverse_spectrum_truncation(interpolated_psd,\n",
        "                                                        max_filter_len,\n",
        "                                                        low_frequency_cutoff=12)\n",
        "\n",
        "# Now you can use psd_for_filtering for whitening or other signal processing tasks.\n",
        "# For example, you can plot it:\n",
        "pylab.loglog(psd_for_filtering.sample_frequencies, psd_for_filtering)\n",
        "pylab.xlabel('Frequency (Hz)')\n",
        "pylab.ylabel('Strain^2/Hz')\n",
        "pylab.title('Formatted PSD for Filtering')\n",
        "pylab.show()\n"
      ]
    },
    {
      "cell_type": "markdown",
      "metadata": {
        "id": "IZfMROzchpHd"
      },
      "source": [
        "Now that the PSD is ready, we can whiten the data. Before we used a PyCBC function, but mathematically this is defined as\n",
        "\n",
        "\\begin{equation}\n",
        "\\tilde{d_w}(f) = \\tilde{d}(f)/S_{n}^{-1/2}(f)\n",
        "\\end{equation}\n",
        "where $\\tilde{d}$ and $\\tilde{d_w}(f)$ are the Fourier transform of the coloured data and whitened data, respectively.\n",
        "\n",
        "**Exercise 5:** Whiten the data using the interpolated PSD. Crop 5s at the beginning and the end to avoid border effects (_aliasing_) and bandpass it as in the previous exercise. Can you see the GW signal?"
      ]
    },
    {
      "cell_type": "code",
      "execution_count": null,
      "metadata": {
        "id": "7c9OfdpThpHe"
      },
      "outputs": [],
      "source": [
        "\n",
        "# Whiten the data\n",
        "whitened_data = signal.to_frequencyseries() / psd_for_filtering**0.5\n",
        "\n",
        "# Crop the data\n",
        "crop_len = int(5 / delta_t)\n",
        "whitened_data = whitened_data.crop(crop_len, crop_len)\n",
        "\n",
        "# Bandpass the data (same as before)\n",
        "f_low = 30\n",
        "f_high = 200\n",
        "whitened_data = whitened_data.bandpass(f_low, f_high)\n",
        "\n",
        "# Convert back to time domain\n",
        "whitened_data_td = whitened_data.to_timeseries()\n",
        "\n",
        "\n",
        "# Plot the whitened data\n",
        "pylab.plot(whitened_data_td.sample_times, whitened_data_td)\n",
        "pylab.xlabel('Time (s)')\n",
        "pylab.ylabel('Strain')\n",
        "pylab.title('Whitened Data')\n",
        "pylab.show()\n"
      ]
    },
    {
      "cell_type": "markdown",
      "metadata": {
        "id": "apD2jWMPhpHe"
      },
      "source": [
        "So far, we buried a GW signal  $h(t)$ in stationary and Gaussian noise $n(t)$ with zero mean, such that $s(t) = h(t) + n(t)$. Given the optimal filter  $K(t)$,\n",
        "\n",
        "\\begin{equation}\n",
        "\\label{eq:filteredsignal}\n",
        "\\hat{s} = \\int_{-\\infty}^{\\infty}  K(t)s(t) dt = \\int_{-\\infty}^{\\infty} \\tilde{K}(f)^{*}\\tilde{s}(f) df, \\quad \\text{ where }  \\tilde{s}(f) = \\int_{-\\infty}^{\\infty} s(t)e^{-2 \\pi i ft}dt\n",
        "\\end{equation}\n",
        "where $\\hat{s}$ is the filtered value of $s(t)$, $^*$ represents the complex conjugate, and $\\tilde{\\cdot }\\ $ the Fourier transform.\n",
        "\n",
        "The detection statistic that is maximised by the optimal filter $K(t)$  will be the SNR, defined as $\\rho = S/N$. $S$ is the expected value of $\\hat{s}$ when $h(t) \\neq 0$, while $N$ is the squared root of the noise variance when $h(t) =0$. It can be demonstrated that the optimal filter $K(t)$ is the model of the GW signal itself, known as _template_.\n",
        "\n",
        "The fundamental modelled detection technique is called \"matched filtering\", since the filter function is chosen to \"match\" the signal we are looking for. We can write the SNR between an unknown time series $s(t)$ and the template $h_{m}$ as\n",
        "\n",
        "\\begin{equation}\n",
        "\\label{eq:wienerscalar}\n",
        "\\rho =  4 \\text{Re} \\int_{0}^{\\infty} \\frac{\\tilde{s}^{*}(f)}{S_{n}(f)} \\tilde{h_{m}}(f) df.\n",
        "\\end{equation}\n",
        "\n",
        "\n",
        "\n",
        "**Exercise 6:** Use the [matched_filter](https://pycbc.org/pycbc/latest/html/pycbc.filter.html#pycbc.filter.matchedfilter.matched_filter) function to filter the coloured data with the template. Crop the SNR time series 5s at each side and plot it together with the whitened data. Where is the GW signal? Note that the y-axis of the whitened data is _amplitude_ and the y-axis of the SNR timeseries is _SNR_.\n",
        "\n",
        "How much is the maximum of the absolute value of the SNR time series? If it is larger than 5 it will generate a \"trigger\" for further analysis. Will the trigger be generated?\n",
        "\n",
        "Note that the parameter space of GW signals is vast, so to find these signals, we will need to create a template bank and do this process for thousands of templates. Then, this becomes a high-performance computing problem!\n",
        "\n",
        "_Hint_: you need to [resize](https://pycbc.org/pycbc/latest/html/pycbc.types.html#pycbc.types.array.Array.resize) the template and use [cyclic_time_shift](https://pycbc.org/pycbc/latest/html/pycbc.types.html#pycbc.types.frequencyseries.FrequencySeries.cyclic_time_shift)"
      ]
    },
    {
      "cell_type": "code",
      "source": [],
      "metadata": {
        "id": "cDL8NIcOiPni"
      },
      "execution_count": null,
      "outputs": []
    },
    {
      "cell_type": "code",
      "execution_count": null,
      "metadata": {
        "id": "5Z92GO6vhpHe"
      },
      "outputs": [],
      "source": [
        "\n",
        "\n",
        "from pycbc.filter import matched_filter\n",
        "from pycbc.types import TimeSeries\n",
        "\n",
        "# Resize the template to match the data length\n",
        "hp.resize(len(signal))\n",
        "\n",
        "# Perform matched filtering\n",
        "snr = matched_filter(hp, signal,\n",
        "                     psd=psd_for_filtering,\n",
        "                     low_frequency_cutoff=f_low)\n",
        "\n",
        "# Time shift the SNR time series to account for the time delay in the matched filter\n",
        "snr = snr.cyclic_time_shift(hp.start_time)\n",
        "\n",
        "# Crop the SNR time series\n",
        "snr = snr.crop(5, 5)\n",
        "\n",
        "# Plot the SNR time series along with the whitened data\n",
        "pylab.figure(figsize=(10, 6))\n",
        "pylab.plot(snr.sample_times, abs(snr), label='SNR')\n",
        "pylab.plot(whitened_data_td.sample_times, whitened_data_td, label='Whitened Data')\n",
        "pylab.xlabel('Time (s)')\n",
        "pylab.ylabel('SNR / Strain')\n",
        "pylab.title('Matched Filter SNR')\n",
        "pylab.legend()\n",
        "pylab.grid(True)\n",
        "pylab.show()\n",
        "\n",
        "# Find the maximum of the absolute value of the SNR time series\n",
        "max_snr = max(abs(snr))\n",
        "print(f\"Maximum SNR: {max_snr}\")\n",
        "\n",
        "# Check if a trigger is generated\n",
        "if max_snr > 5:\n",
        "    print(\"Trigger generated!\")\n",
        "else:\n",
        "    print(\"Trigger not generated.\")\n"
      ]
    },
    {
      "cell_type": "markdown",
      "metadata": {
        "id": "wSYU6DFeFcpt"
      },
      "source": [
        "Good job arriving at the end of the tutorial! This was a small peak at GW data analysis that I hope you found interesting.\n",
        "\n",
        "There is a bonus track exercise if you are bored, but we can also have a chat about some more GW data analysis if you prefer."
      ]
    },
    {
      "cell_type": "markdown",
      "metadata": {
        "id": "Xtd3RX4FhpHe"
      },
      "source": []
    }
  ],
  "metadata": {
    "colab": {
      "provenance": []
    },
    "kernelspec": {
      "display_name": "gengli_env",
      "language": "python",
      "name": "gengli_env"
    },
    "language_info": {
      "codemirror_mode": {
        "name": "ipython",
        "version": 3
      },
      "file_extension": ".py",
      "mimetype": "text/x-python",
      "name": "python",
      "nbconvert_exporter": "python",
      "pygments_lexer": "ipython3",
      "version": "3.9.16"
    }
  },
  "nbformat": 4,
  "nbformat_minor": 0
}